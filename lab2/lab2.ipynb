{
 "cells": [
  {
   "cell_type": "code",
   "execution_count": null,
   "id": "9aa2513e61dc89d9",
   "metadata": {},
   "outputs": [],
   "source": "import csv"
  },
  {
   "metadata": {},
   "cell_type": "markdown",
   "source": "Решил исследовать dataset anime. Источник: https://github.com/caserec/Datasets-for-Recommender-Systems/tree/master/Processed%20Datasets/Anime",
   "id": "a741f8975bcdca0a"
  },
  {
   "metadata": {},
   "cell_type": "markdown",
   "source": [
    "Первоначально столкнулся с проблемой обработки жанров, как важного элемента рекоммендаций. Данные были представлены в формате:\n",
    "\n",
    "| anime_ids | name                          | genre                                             | type  | episodes | rating | members |\n",
    "|-----------|-------------------------------|---------------------------------------------------|-------|----------|--------|---------|\n",
    "| 1723      | Kimi no Na wa.                | Drama, Romance, School, Supernatural            | Movie | 1        | 9.37   | 200630  |\n",
    "| 82        | Fullmetal Alchemist: Brotherhood | Action, Adventure, Drama, Fantasy, Magic, Military, Shounen | TV    | 64       | 9.26   | 793665  |\n",
    "\n",
    "\n",
    "В таком виде алгоритмы будут строить эмбеддинги, которые сложно будет сравнивать друг с другом(много уникальных сочетаний жанров). Поэтому оценил кол-во фильмов, которое останется при отборе самых популярных жанров:"
   ],
   "id": "9001941345032bf4"
  },
  {
   "metadata": {
    "jupyter": {
     "is_executing": true
    }
   },
   "cell_type": "code",
   "source": [
    "def count_filtered_titles(dat_file, target_genres):\n",
    "    total_titles = 0\n",
    "    matching_titles = 0\n",
    "\n",
    "    with open(dat_file, 'r', encoding='utf-8') as file:\n",
    "        next(file)\n",
    "        for line in file:\n",
    "            total_titles += 1\n",
    "            columns = line.strip().split('\\t')\n",
    "            if len(columns) < 3:\n",
    "                continue\n",
    "            genres = columns[2].split(',')\n",
    "            genres = {g.strip() for g in genres}\n",
    "\n",
    "            if any(genre in genres for genre in target_genres):\n",
    "                matching_titles += 1\n",
    "\n",
    "    return matching_titles\n",
    "\n",
    "\n",
    "dat_file = 'anime_info.dat'\n",
    "target_genres = {\n",
    "    'Comedy', 'Action', 'Sci-Fi', 'Adventure', 'Fantasy', 'Drama', 'Shounen',\n",
    "    'Romance','Shoujo', 'Seinen'\n",
    "}\n",
    "\n",
    "matching_titles = count_filtered_titles(dat_file, target_genres)\n",
    "print(f\"Number of titles with at least one of the specified genres: {matching_titles}\")\n"
   ],
   "id": "829c481d35395c35",
   "outputs": [],
   "execution_count": null
  },
  {
   "metadata": {},
   "cell_type": "markdown",
   "source": "Небольшая потеря в сравнении с 7390 изначальными произведениями",
   "id": "fe2da380ebd80c5e"
  },
  {
   "metadata": {},
   "cell_type": "markdown",
   "source": "Сами жанры переформатировал по принципу One Hot encoder, а так же оставил только нужные колонки:",
   "id": "ea4a0d5a5134c705"
  },
  {
   "metadata": {
    "collapsed": true
   },
   "cell_type": "code",
   "outputs": [],
   "execution_count": null,
   "source": [
    "def process_anime_dataset(input_file, output_file):\n",
    "    target_genres = {\n",
    "        'Comedy', 'Action', 'Sci-Fi', 'Adventure', 'Fantasy',\n",
    "        'Drama', 'Shounen', 'Romance', 'Shoujo', 'Seinen'\n",
    "    }\n",
    "\n",
    "    with open(input_file, 'r', encoding='utf-8') as infile, \\\n",
    "         open(output_file, 'w', encoding='utf-8', newline='') as outfile:\n",
    "\n",
    "        reader = csv.DictReader(infile, delimiter='\\t')\n",
    "        fieldnames = ['anime_ids', 'type', 'episodes', 'rating', 'members'] + list(target_genres)\n",
    "        writer = csv.DictWriter(outfile, fieldnames=fieldnames, delimiter='\\t')\n",
    "        writer.writeheader()\n",
    "\n",
    "        for row in reader:\n",
    "            genres = set(g.strip() for g in row['genre'].split(','))\n",
    "\n",
    "            if not any(g in genres for g in target_genres):\n",
    "                continue\n",
    "\n",
    "            output_row = {\n",
    "                'anime_ids': row['anime_ids'],\n",
    "                'type': row['type'],\n",
    "                'episodes': row['episodes'],\n",
    "                'rating': row['rating'],\n",
    "                'members': row['members']\n",
    "            }\n",
    "\n",
    "            for genre in target_genres:\n",
    "                output_row[genre] = 1 if genre in genres else 0\n",
    "\n",
    "            writer.writerow(output_row)\n",
    "\n",
    "\n",
    "input_file = 'anime_info.dat'\n",
    "output_file = 'filtered_anime.dat'\n",
    "process_anime_dataset(input_file, output_file)\n"
   ],
   "id": "initial_id"
  },
  {
   "metadata": {},
   "cell_type": "markdown",
   "source": [
    "Данные приняли вид:\n",
    "\n",
    "| anime_ids | type  | episodes | rating | members | Drama | Adventure | Shoujo | Action | Seinen | Sci-Fi | Fantasy | Comedy | Shounen | Romance |\n",
    "|-----------|-------|----------|--------|---------|-------|-----------|--------|--------|--------|--------|---------|--------|---------|---------|\n",
    "| 1723      | Movie | 1        | 9.37   | 200630  | 1     | 0         | 0      | 0      | 0      | 0      | 0       | 0      | 0       | 1       |\n",
    "| 82        | TV    | 64       | 9.26   | 793665  | 1     | 1         | 0      | 1      | 0      | 0      | 1       | 0      | 1       | 0       |\n",
    "| 296       | TV    | 51       | 9.25   | 114262  | 0     | 0         | 0      | 1      | 0      | 1      | 0       | 1      | 1       | 0       |\n"
   ],
   "id": "9e93992f5f934b55"
  },
  {
   "metadata": {},
   "cell_type": "markdown",
   "source": "В связи с удалением некоторых фильмов нужно было зачистить связанные отзывы",
   "id": "eca2fc9b742d6021"
  },
  {
   "metadata": {},
   "cell_type": "code",
   "outputs": [],
   "execution_count": null,
   "source": [
    "import csv\n",
    "\n",
    "def extract_anime_ids(filtered_anime_file):\n",
    "    anime_ids = set()\n",
    "    with open(filtered_anime_file, 'r', encoding='utf-8') as file:\n",
    "        reader = csv.DictReader(file, delimiter='\\t')\n",
    "        for row in reader:\n",
    "            anime_ids.add(row['anime_ids'])\n",
    "    return anime_ids\n",
    "\n",
    "def filter_ratings(rating_file, output_file, anime_ids):\n",
    "    with open(rating_file, 'r', encoding='utf-8') as infile, \\\n",
    "         open(output_file, 'w', encoding='utf-8', newline='') as outfile:\n",
    "\n",
    "        reader = csv.DictReader(infile, delimiter='\\t')\n",
    "        writer = csv.DictWriter(outfile, fieldnames=reader.fieldnames, delimiter='\\t')\n",
    "        writer.writeheader()\n",
    "\n",
    "        for row in reader:\n",
    "            if row['Anime_ID'] in anime_ids:\n",
    "                writer.writerow(row)\n",
    "\n",
    "\n",
    "filtered_anime_file = 'filtered_anime.dat'\n",
    "rating_file = 'anime_ratings.dat'\n",
    "output_file = 'filtered_ratings.dat'\n",
    "\n",
    "anime_ids = extract_anime_ids(filtered_anime_file)\n",
    "filter_ratings(rating_file, output_file, anime_ids)"
   ],
   "id": "9430a48e12942"
  },
  {
   "metadata": {},
   "cell_type": "markdown",
   "source": "В итоге осталось 400К из изначальных 500К, более чем достаточно для наших целей",
   "id": "484c949b5ea4554a"
  },
  {
   "metadata": {},
   "cell_type": "markdown",
   "source": "EDA и визуализации",
   "id": "cb9bfebf7773c16b"
  },
  {
   "metadata": {},
   "cell_type": "code",
   "outputs": [],
   "execution_count": null,
   "source": [
    "import pandas as pd\n",
    "import matplotlib.pyplot as plt\n",
    "import seaborn as sns\n",
    "\n",
    "ratings_df = pd.read_csv('filtered_ratings.dat', sep='\\t')\n",
    "\n",
    "anime_df = pd.read_csv('filtered_anime.dat', sep='\\t')\n"
   ],
   "id": "bec0efe3d3d22c0e"
  },
  {
   "metadata": {},
   "cell_type": "markdown",
   "source": "Рейтинг",
   "id": "45aca448e8df32c4"
  },
  {
   "metadata": {},
   "cell_type": "code",
   "outputs": [],
   "execution_count": null,
   "source": [
    "mean_rating = ratings_df['Feedback'].mean()\n",
    "median_rating = ratings_df['Feedback'].median()\n",
    "\n",
    "print(f\"Средний рейтинг: {mean_rating:.2f}\")\n",
    "print(f\"Медианный рейтинг: {median_rating:.2f}\")\n",
    "\n",
    "reviews_per_anime = ratings_df.groupby('Anime_ID').size()\n",
    "mean_reviews_per_anime = reviews_per_anime.mean()\n",
    "median_reviews_per_anime = reviews_per_anime.median()\n",
    "\n",
    "print(f\"Среднее количество отзывов на фильм: {mean_reviews_per_anime:.2f}\")\n",
    "print(f\"Медианное количество отзывов на фильм: {median_reviews_per_anime:.2f}\")\n",
    "\n",
    "reviews_per_user = ratings_df.groupby('User_ID').size()\n",
    "mean_reviews_per_user = reviews_per_user.mean()\n",
    "median_reviews_per_user = reviews_per_user.median()\n",
    "\n",
    "print(f\"Среднее количество отзывов на пользователя: {mean_reviews_per_user:.2f}\")\n",
    "print(f\"Медианное количество отзывов на пользователя: {median_reviews_per_user:.2f}\")\n"
   ],
   "id": "ab74fe3f02f9824"
  },
  {
   "metadata": {},
   "cell_type": "code",
   "outputs": [],
   "execution_count": null,
   "source": [
    "plt.figure(figsize=(10, 6))\n",
    "sns.countplot(x='Feedback', data=ratings_df)\n",
    "plt.title('Распределение рейтингов')\n",
    "plt.xlabel('Рейтинг')\n",
    "plt.ylabel('Количество')\n",
    "plt.show()\n",
    "\n",
    "plt.figure(figsize=(10, 6))\n",
    "sns.histplot(reviews_per_anime, bins=20)\n",
    "plt.title('Распределение количества отзывов на фильм')\n",
    "plt.xlabel('Количество отзывов')\n",
    "plt.ylabel('Количество фильмов')\n",
    "plt.show()\n",
    "\n",
    "plt.figure(figsize=(10, 6))\n",
    "sns.histplot(reviews_per_user, bins=20)\n",
    "plt.title('Распределение количества отзывов на пользователя')\n",
    "plt.xlabel('Количество отзывов')\n",
    "plt.ylabel('Количество пользователей')\n",
    "plt.show()\n"
   ],
   "id": "e9699cf2beb6304e"
  },
  {
   "metadata": {},
   "cell_type": "markdown",
   "source": "Аниме",
   "id": "5fd38984a052fdd3"
  },
  {
   "metadata": {},
   "cell_type": "code",
   "outputs": [],
   "execution_count": null,
   "source": [
    "mean_episodes = anime_df['episodes'].mean()\n",
    "median_episodes = anime_df['episodes'].median()\n",
    "\n",
    "print(f\"Среднее количество эпизодов: {mean_episodes:.2f}\")\n",
    "print(f\"Медианное количество эпизодов: {median_episodes:.2f}\")\n",
    "\n",
    "type_counts = anime_df['type'].value_counts()\n",
    "print(\"\\nКоличество каждого типа:\")\n",
    "print(type_counts)\n",
    "\n",
    "mean_rating_anime = anime_df['rating'].mean()\n",
    "median_rating_anime = anime_df['rating'].median()\n",
    "\n",
    "print(f\"\\nСредний рейтинг аниме: {mean_rating_anime:.2f}\")\n",
    "print(f\"Медианный рейтинг аниме: {median_rating_anime:.2f}\")\n",
    "\n",
    "genre_columns = ['Drama', 'Adventure', 'Shoujo', 'Action', 'Seinen', 'Sci-Fi', 'Fantasy', 'Comedy', 'Shounen', 'Romance']\n",
    "genre_counts = anime_df[genre_columns].sum().sort_values(ascending=False)\n",
    "print(\"\\nКоличество каждого жанра:\")\n",
    "print(genre_counts)\n"
   ],
   "id": "fe8c3e7ece8e91f2"
  },
  {
   "metadata": {},
   "cell_type": "code",
   "outputs": [],
   "execution_count": null,
   "source": [
    "bins = [0, 7, 12, 24, 50, 100, float('inf')]\n",
    "labels = ['1-7', '8-12', '13-24', '25-50', '51-100', '100+']\n",
    "anime_df['episode_bins'] = pd.cut(anime_df['episodes'], bins=bins, labels=labels, right=False)\n",
    "\n",
    "plt.figure(figsize=(10, 6))\n",
    "sns.countplot(x='episode_bins', data=anime_df)\n",
    "plt.title('Распределение количества эпизодов')\n",
    "plt.xlabel('Количество эпизодов')\n",
    "plt.ylabel('Количество аниме')\n",
    "plt.show()\n",
    "\n",
    "plt.figure(figsize=(10, 6))\n",
    "sns.histplot(anime_df['rating'], bins=20)\n",
    "plt.title('Распределение рейтинга аниме')\n",
    "plt.xlabel('Рейтинг')\n",
    "plt.ylabel('Количество аниме')\n",
    "plt.show()\n",
    "\n",
    "plt.figure(figsize=(12, 6))\n",
    "sns.barplot(x=genre_counts.index, y=genre_counts.values)\n",
    "plt.title('Количество каждого жанра')\n",
    "plt.xlabel('Жанр')\n",
    "plt.ylabel('Количество')\n",
    "plt.xticks(rotation=45)\n",
    "plt.show()\n"
   ],
   "id": "ca7b4294cf0433e8"
  },
  {
   "metadata": {},
   "cell_type": "markdown",
   "source": "Качество данных",
   "id": "71c5c4bd58b0fcd5"
  },
  {
   "metadata": {},
   "cell_type": "code",
   "outputs": [],
   "execution_count": null,
   "source": [
    "print(\"Пропуски в данных о рейтингах:\")\n",
    "print(ratings_df.isnull().sum())\n",
    "\n",
    "print(\"\\nПропуски в данных об аниме:\")\n",
    "print(anime_df.isnull().sum())\n"
   ],
   "id": "6c2daa6c12305560"
  },
  {
   "metadata": {},
   "cell_type": "code",
   "outputs": [],
   "execution_count": null,
   "source": [
    "duplicate_ratings = ratings_df.duplicated().sum()\n",
    "print(f\"\\nКоличество дубликатов в данных о рейтингах: {duplicate_ratings}\")\n",
    "\n",
    "duplicate_anime = anime_df.duplicated(subset='anime_ids').sum()\n",
    "print(f\"Количество дубликатов в данных об аниме: {duplicate_anime}\")\n"
   ],
   "id": "14235ae15fa259fa"
  },
  {
   "metadata": {},
   "cell_type": "code",
   "outputs": [],
   "execution_count": null,
   "source": [
    "plt.figure(figsize=(10, 6))\n",
    "sns.boxplot(x=anime_df['episodes'])\n",
    "plt.title('Выбросы в количестве эпизодов')\n",
    "plt.show()\n",
    "\n",
    "plt.figure(figsize=(10, 6))\n",
    "sns.boxplot(x=anime_df['rating'])\n",
    "plt.title('Выбросы в рейтингах')\n",
    "plt.show()\n"
   ],
   "id": "3c3a574ebc9a2a68"
  }
 ],
 "metadata": {
  "kernelspec": {
   "display_name": "Python 3",
   "language": "python",
   "name": "python3"
  },
  "language_info": {
   "codemirror_mode": {
    "name": "ipython",
    "version": 2
   },
   "file_extension": ".py",
   "mimetype": "text/x-python",
   "name": "python",
   "nbconvert_exporter": "python",
   "pygments_lexer": "ipython2",
   "version": "2.7.6"
  }
 },
 "nbformat": 4,
 "nbformat_minor": 5
}
